{
 "cells": [
  {
   "cell_type": "code",
   "execution_count": 1,
   "metadata": {
    "execution": {
     "iopub.execute_input": "2024-09-07T18:14:05.541241Z",
     "iopub.status.busy": "2024-09-07T18:14:05.540741Z",
     "iopub.status.idle": "2024-09-07T18:14:20.746310Z",
     "shell.execute_reply": "2024-09-07T18:14:20.745087Z",
     "shell.execute_reply.started": "2024-09-07T18:14:05.541204Z"
    },
    "id": "7ae_a6Swk1N-"
   },
   "outputs": [],
   "source": [
    "# Importing Libraries\n",
    "import numpy as np\n",
    "import cv2\n",
    "import tensorflow as tf\n",
    "from tensorflow.keras.models import Model\n",
    "from tensorflow.keras.layers import Input, Conv2D, BatchNormalization, Activation, Add\n",
    "from tensorflow.keras.optimizers import Adam\n",
    "from sklearn.model_selection import train_test_split"
   ]
  },
  {
   "cell_type": "code",
   "execution_count": null,
   "metadata": {
    "id": "KPfaSWp0nrnc"
   },
   "outputs": [],
   "source": [
    "from google.colab import drive\n",
    "drive.mount('/content/drive')"
   ]
  },
  {
   "cell_type": "code",
   "execution_count": 4,
   "metadata": {
    "execution": {
     "iopub.execute_input": "2024-09-07T18:17:00.110416Z",
     "iopub.status.busy": "2024-09-07T18:17:00.110019Z",
     "iopub.status.idle": "2024-09-07T18:17:00.116219Z",
     "shell.execute_reply": "2024-09-07T18:17:00.115322Z",
     "shell.execute_reply.started": "2024-09-07T18:17:00.110380Z"
    },
    "id": "B4_rY2yDpstr"
   },
   "outputs": [],
   "source": [
    "# Establishing connection with google drive\n",
    "# from google.colab import drive\n",
    "# drive.mount('/content/drive')\n",
    "import os\n",
    "color_dataset_path = '/kaggle/input/satellite-images/EuroSAT'  # Base path for colorised images\n",
    "gray_scale_dataset_path = '/kaggle/input/satellite-images/EuroSAT_gray_scale'  # Base path for grayscale images\n",
    "if not os.path.exists(gray_scale_dataset_path):\n",
    "    os.makedirs(gray_scale_dataset_path)\n",
    "\n",
    "# List of folders representing different classes\n",
    "class_folders = ['River', 'SeaLake', 'Residential', 'Pasture', 'AnnualCrop','Forest', 'HerbaceousVegetation', 'Highway', 'Industrial', 'PermanentCrop']"
   ]
  },
  {
   "cell_type": "code",
   "execution_count": null,
   "metadata": {
    "colab": {
     "base_uri": "https://localhost:8080/"
    },
    "execution": {
     "iopub.execute_input": "2024-09-07T18:14:32.178889Z",
     "iopub.status.busy": "2024-09-07T18:14:32.178095Z",
     "iopub.status.idle": "2024-09-07T18:14:33.427513Z",
     "shell.execute_reply": "2024-09-07T18:14:33.426168Z",
     "shell.execute_reply.started": "2024-09-07T18:14:32.178837Z"
    },
    "id": "3Vvt43vRMEEz",
    "outputId": "73f6f6bb-6cf7-4219-b719-aac257fbd9f5"
   },
   "outputs": [],
   "source": [
    "import os\n",
    "import subprocess\n",
    "\n",
    "# Install unrar (only necessary if not already installed)\n",
    "# !apt-get install unrar\n",
    "\n",
    "# Define paths for the uploaded rar files\n",
    "color_dataset_rar = '/kaggle/input/satellite-images/EuroSAT'\n",
    "gray_scale_dataset_rar = '/kaggle/input/satellite-images/EuroSAT_gray_scale'\n",
    "\n",
    "# Define paths for extracted datasets\n",
    "color_dataset_path = 'EuroSAT'  # Directory for color images\n",
    "gray_scale_dataset_path = 'EuroSAT_gray_scale'  # Directory for grayscale images\n",
    "\n",
    "# Extract the color dataset if the rar file exists and not extracted yet\n",
    "if not os.path.exists(color_dataset_path):\n",
    "    os.makedirs(color_dataset_path)\n",
    "    subprocess.run(['unrar', 'x', color_dataset_rar, color_dataset_path])\n",
    "    print(f\"{color_dataset_rar} extracted to {color_dataset_path}\")\n",
    "\n",
    "# Extract the grayscale dataset if the rar file exists and not extracted yet\n",
    "if not os.path.exists(gray_scale_dataset_path):\n",
    "    os.makedirs(gray_scale_dataset_path)\n",
    "    subprocess.run(['unrar', 'x', gray_scale_dataset_rar, gray_scale_dataset_path])\n",
    "    print(f\"{gray_scale_dataset_rar} extracted to {gray_scale_dataset_path}\")\n",
    "\n",
    "# List of folders representing different classes\n",
    "class_folders = ['River', 'SeaLake', 'Residential', 'Pasture', 'AnnualCrop',\n",
    "                 'Forest', 'HerbaceousVegetation', 'Highway', 'Industrial', 'PermanentCrop']"
   ]
  },
  {
   "cell_type": "code",
   "execution_count": 5,
   "metadata": {
    "colab": {
     "base_uri": "https://localhost:8080/"
    },
    "execution": {
     "iopub.execute_input": "2024-09-07T18:17:09.720194Z",
     "iopub.status.busy": "2024-09-07T18:17:09.719801Z",
     "iopub.status.idle": "2024-09-07T18:17:09.735502Z",
     "shell.execute_reply": "2024-09-07T18:17:09.734442Z",
     "shell.execute_reply.started": "2024-09-07T18:17:09.720156Z"
    },
    "id": "qYHeZFmQQnY-",
    "outputId": "1c242862-b5a6-4f5a-c0b6-256c257ead7f"
   },
   "outputs": [
    {
     "name": "stdout",
     "output_type": "stream",
     "text": [
      "Folders in color dataset:\n",
      "SeaLake\n",
      "Highway\n",
      "River\n",
      "Pasture\n",
      "Industrial\n",
      "Residential\n",
      "PermanentCrop\n",
      "AnnualCrop\n",
      "Forest\n",
      "HerbaceousVegetation\n",
      "\n",
      "Folders in grayscale dataset:\n",
      "Industrial_gray_scale\n",
      "SeaLake_gray_scale\n",
      "River_gray_scale\n",
      "AnnualCrop_gray_scale\n",
      "Residential_gray_scale\n",
      "PermanentCrop_gray_scale\n",
      "HerbaceousVegetation_gray_scale\n",
      "Pasture_gray_scale\n",
      "Forest_gray_scale\n",
      "Highway_gray_scale\n"
     ]
    }
   ],
   "source": [
    "print(\"Folders in color dataset:\")\n",
    "for folder in os.listdir(color_dataset_path):\n",
    "    if os.path.isdir(os.path.join(color_dataset_path, folder)):\n",
    "        print(folder)\n",
    "\n",
    "# Print all folders in the grayscale dataset\n",
    "print(\"\\nFolders in grayscale dataset:\")\n",
    "for folder in os.listdir(gray_scale_dataset_path):\n",
    "    if os.path.isdir(os.path.join(gray_scale_dataset_path, folder)):\n",
    "        print(folder)"
   ]
  },
  {
   "cell_type": "code",
   "execution_count": null,
   "metadata": {
    "id": "wXTjHM8olBAw"
   },
   "outputs": [],
   "source": [
    "# Function to convert RGB Image to GrayScale\n",
    "def convert_to_grayscale(image_path, output_path):\n",
    "    image = cv2.imread(image_path)\n",
    "    if image is None:\n",
    "        print(f\"Error: Unable to load image at {image_path}\")\n",
    "        return\n",
    "\n",
    "    gray_image = cv2.cvtColor(image, cv2.COLOR_BGR2GRAY)\n",
    "    cv2.imwrite(output_path, gray_image)"
   ]
  },
  {
   "cell_type": "code",
   "execution_count": null,
   "metadata": {
    "id": "_2h1unPZpxkU",
    "outputId": "10309943-c5c5-4f67-e152-adfbbc66c163"
   },
   "outputs": [
    {
     "name": "stdout",
     "output_type": "stream",
     "text": [
      "\n",
      "\n",
      "Grayscale conversion completed!\n"
     ]
    }
   ],
   "source": [
    "# Convert all images to GrayScale\n",
    "for folder in class_folders:\n",
    "    source_folder = os.path.join(color_dataset_path, folder)\n",
    "    dest_folder = os.path.join(gray_scale_dataset_path, f\"{folder}_gray_scale\")\n",
    "\n",
    "    if not os.path.exists(source_folder):\n",
    "        print(f\"Warning: Source folder {source_folder} does not exist. Skipping...\")\n",
    "        continue\n",
    "\n",
    "    if not os.path.exists(dest_folder):\n",
    "        os.makedirs(dest_folder)\n",
    "\n",
    "    for filename in os.listdir(source_folder):\n",
    "        image_path = os.path.join(source_folder, filename)\n",
    "        output_path = os.path.join(dest_folder, filename)\n",
    "        convert_to_grayscale(image_path, output_path)\n",
    "\n",
    "print(\"\\nGrayscale conversion completed!\")"
   ]
  },
  {
   "cell_type": "code",
   "execution_count": 6,
   "metadata": {
    "execution": {
     "iopub.execute_input": "2024-09-07T18:17:24.928459Z",
     "iopub.status.busy": "2024-09-07T18:17:24.927608Z",
     "iopub.status.idle": "2024-09-07T18:17:24.939688Z",
     "shell.execute_reply": "2024-09-07T18:17:24.938697Z",
     "shell.execute_reply.started": "2024-09-07T18:17:24.928411Z"
    },
    "id": "E8pfDw85lBDZ"
   },
   "outputs": [],
   "source": [
    "# Function to load and preprocess images from directories\n",
    "def load_data(color_dataset_path, gray_scale_dataset_path, class_folders, size=(64, 64)):\n",
    "    X = []  # Grayscale images\n",
    "    Y = []  # Color images\n",
    "\n",
    "    for folder in class_folders:\n",
    "        color_folder = os.path.join(color_dataset_path, folder)\n",
    "        gray_folder = os.path.join(gray_scale_dataset_path, f\"{folder}_gray_scale\")\n",
    "\n",
    "        if not os.path.exists(color_folder) or not os.path.exists(gray_folder):\n",
    "            print(f\"Skipping missing folder: {color_folder} or {gray_folder}\")\n",
    "            continue\n",
    "\n",
    "        # List all files in the color and grayscale folder\n",
    "        color_files = os.listdir(color_folder)\n",
    "        gray_files = os.listdir(gray_folder)\n",
    "\n",
    "        for filename in color_files:\n",
    "            color_path = os.path.join(color_folder, filename)\n",
    "            gray_path = os.path.join(gray_folder, filename)\n",
    "\n",
    "            if not os.path.isfile(color_path) or not os.path.isfile(gray_path):\n",
    "                print(f\"Skipping missing files: {color_path} or {gray_path}\")\n",
    "                continue\n",
    "\n",
    "            color_img = cv2.imread(color_path)\n",
    "            gray_img = cv2.imread(gray_path, cv2.IMREAD_GRAYSCALE)\n",
    "\n",
    "            if color_img is None or gray_img is None:\n",
    "                print(f\"Error loading images: {color_path} or {gray_path}\")\n",
    "                continue\n",
    "\n",
    "            # Resize images to the desired size (128x128)\n",
    "            color_img = cv2.resize(color_img, size)\n",
    "            gray_img = cv2.resize(gray_img, size)\n",
    "\n",
    "            # Expand dimensions of grayscale image to (height, width, 1)\n",
    "            gray_img = np.expand_dims(gray_img, axis=-1)\n",
    "\n",
    "            # Normalize pixel values to [0, 1]\n",
    "            X.append(gray_img / 255.0)  # Grayscale images\n",
    "            Y.append(color_img / 255.0)  # Color images\n",
    "\n",
    "    return np.array(X), np.array(Y)"
   ]
  },
  {
   "cell_type": "code",
   "execution_count": 7,
   "metadata": {
    "execution": {
     "iopub.execute_input": "2024-09-07T18:17:30.668958Z",
     "iopub.status.busy": "2024-09-07T18:17:30.668603Z",
     "iopub.status.idle": "2024-09-07T18:17:30.682591Z",
     "shell.execute_reply": "2024-09-07T18:17:30.681591Z",
     "shell.execute_reply.started": "2024-09-07T18:17:30.668926Z"
    },
    "id": "jPG2lYjvlBGc"
   },
   "outputs": [],
   "source": [
    "from tensorflow.keras.layers import MaxPooling2D, UpSampling2D, Concatenate\n",
    "\n",
    "# Define U-Net architecture for colorization\n",
    "def build_colorization_model(input_shape):\n",
    "    inputs = Input(shape=input_shape)\n",
    "\n",
    "    # Encoder\n",
    "    c1 = Conv2D(64, (3, 3), activation='relu', padding='same')(inputs)\n",
    "    c1 = Conv2D(64, (3, 3), activation='relu', padding='same')(c1)\n",
    "    p1 = MaxPooling2D((2, 2))(c1)\n",
    "\n",
    "    c2 = Conv2D(128, (3, 3), activation='relu', padding='same')(p1)\n",
    "    c2 = Conv2D(128, (3, 3), activation='relu', padding='same')(c2)\n",
    "    p2 = MaxPooling2D((2, 2))(c2)\n",
    "\n",
    "    c3 = Conv2D(256, (3, 3), activation='relu', padding='same')(p2)\n",
    "    c3 = Conv2D(256, (3, 3), activation='relu', padding='same')(c3)\n",
    "    p3 = MaxPooling2D((2, 2))(c3)\n",
    "\n",
    "    # Bottleneck\n",
    "    c4 = Conv2D(512, (3, 3), activation='relu', padding='same')(p3)\n",
    "    c4 = Conv2D(512, (3, 3), activation='relu', padding='same')(c4)\n",
    "\n",
    "    # Decoder\n",
    "    u5 = UpSampling2D((2, 2))(c4)\n",
    "    u5 = Concatenate()([u5, c3])\n",
    "    c5 = Conv2D(256, (3, 3), activation='relu', padding='same')(u5)\n",
    "    c5 = Conv2D(256, (3, 3), activation='relu', padding='same')(c5)\n",
    "\n",
    "    u6 = UpSampling2D((2, 2))(c5)\n",
    "    u6 = Concatenate()([u6, c2])\n",
    "    c6 = Conv2D(128, (3, 3), activation='relu', padding='same')(u6)\n",
    "    c6 = Conv2D(128, (3, 3), activation='relu', padding='same')(c6)\n",
    "\n",
    "    u7 = UpSampling2D((2, 2))(c6)\n",
    "    u7 = Concatenate()([u7, c1])\n",
    "    c7 = Conv2D(64, (3, 3), activation='relu', padding='same')(u7)\n",
    "    c7 = Conv2D(64, (3, 3), activation='relu', padding='same')(c7)\n",
    "\n",
    "    outputs = Conv2D(3, (1, 1), activation='sigmoid')(c7)  # 3 channels for RGB color\n",
    "\n",
    "    model = Model(inputs=[inputs], outputs=[outputs])\n",
    "    return model"
   ]
  },
  {
   "cell_type": "code",
   "execution_count": null,
   "metadata": {
    "colab": {
     "base_uri": "https://localhost:8080/"
    },
    "id": "oIaW8RSvOX3j",
    "outputId": "b28bd3de-6836-4054-88d4-1f576602a275"
   },
   "outputs": [],
   "source": [
    "import tensorflow as tf\n",
    "\n",
    "# Check if GPU is available\n",
    "if tf.test.gpu_device_name():\n",
    "    print(f\"GPU device found: {tf.test.gpu_device_name()}\")\n",
    "else:\n",
    "    print(\"No GPU device found. Make sure you've enabled GPU in your Colab runtime settings.\")\n",
    "\n",
    "# Assuming load_data is a function that loads and processes your dataset\n",
    "X, Y = load_data(color_dataset_path, gray_scale_dataset_path, class_folders, size=(64, 64))\n",
    "\n",
    "# Split the data into training and validation sets\n",
    "X_train, X_val = X[:int(0.8*len(X))], X[int(0.8*len(X)):]\n",
    "Y_train, Y_val = Y[:int(0.8*len(Y))], Y[int(0.8*len(Y)):]\n",
    "\n",
    "# Define the model (assuming 'model' is already defined)\n",
    "try:\n",
    "    # Set up a strategy to use GPU if available\n",
    "    strategy = tf.distribute.MirroredStrategy()\n",
    "    with strategy.scope():\n",
    "        # Train the model\n",
    "        history = model.fit(X_train, Y_train, batch_size=16, epochs=2, validation_data=(X_val, Y_val))\n",
    "\n",
    "        # Save model weights with the correct filename\n",
    "        # weights_path = '/content/drive/MyDrive/colorization_model_weights.weights.h5'\n",
    "        # model.save_weights(weights_path)\n",
    "        weights_path = '/content/colorization_model_weights.weights.h5'\n",
    "        model.save_weights(weights_path)\n",
    "        print(f\"Model weights saved successfully to {weights_path}.\")\n",
    "\n",
    "except Exception as e:\n",
    "    print(f\"Error during training: {e}\")\n"
   ]
  },
  {
   "cell_type": "code",
   "execution_count": 8,
   "metadata": {
    "execution": {
     "iopub.execute_input": "2024-09-07T18:17:41.432059Z",
     "iopub.status.busy": "2024-09-07T18:17:41.431163Z",
     "iopub.status.idle": "2024-09-07T18:21:33.891264Z",
     "shell.execute_reply": "2024-09-07T18:21:33.890320Z",
     "shell.execute_reply.started": "2024-09-07T18:17:41.432019Z"
    },
    "id": "k7MaeId8rwS4"
   },
   "outputs": [],
   "source": [
    "# Load and Split the data into training and validation sets\n",
    "X, Y = load_data(color_dataset_path, gray_scale_dataset_path, class_folders, size=(64, 64))\n",
    "X_train, X_val = X[:int(0.8*len(X))], X[int(0.8*len(X)):]\n",
    "Y_train, Y_val = Y[:int(0.8*len(Y))], Y[int(0.8*len(Y)):]"
   ]
  },
  {
   "cell_type": "code",
   "execution_count": 9,
   "metadata": {
    "colab": {
     "base_uri": "https://localhost:8080/"
    },
    "execution": {
     "iopub.execute_input": "2024-09-07T18:21:46.367939Z",
     "iopub.status.busy": "2024-09-07T18:21:46.367206Z",
     "iopub.status.idle": "2024-09-07T18:21:46.372799Z",
     "shell.execute_reply": "2024-09-07T18:21:46.371796Z",
     "shell.execute_reply.started": "2024-09-07T18:21:46.367893Z"
    },
    "id": "YO-H94X3XNCB",
    "outputId": "fde0b68f-3328-4c84-eb7a-55a89b34f11d"
   },
   "outputs": [
    {
     "name": "stdout",
     "output_type": "stream",
     "text": [
      "Shape of X (grayscale images): (27000, 64, 64, 1)\n",
      "Shape of Y (color images): (27000, 64, 64, 3)\n"
     ]
    }
   ],
   "source": [
    "print(f\"Shape of X (grayscale images): {X.shape}\")\n",
    "print(f\"Shape of Y (color images): {Y.shape}\")\n"
   ]
  },
  {
   "cell_type": "code",
   "execution_count": 30,
   "metadata": {
    "colab": {
     "base_uri": "https://localhost:8080/"
    },
    "id": "M2ElkQ1UZ9WW",
    "outputId": "0c5ba9fa-7237-4afe-aaa0-bffec7bf3133"
   },
   "outputs": [
    {
     "data": {
      "text/plain": [
       "(64, 64, 1)"
      ]
     },
     "execution_count": 30,
     "metadata": {},
     "output_type": "execute_result"
    }
   ],
   "source": [
    "X[0].shape"
   ]
  },
  {
   "cell_type": "code",
   "execution_count": 10,
   "metadata": {
    "execution": {
     "iopub.execute_input": "2024-09-07T18:21:50.492421Z",
     "iopub.status.busy": "2024-09-07T18:21:50.491539Z",
     "iopub.status.idle": "2024-09-07T18:21:51.317222Z",
     "shell.execute_reply": "2024-09-07T18:21:51.316410Z",
     "shell.execute_reply.started": "2024-09-07T18:21:50.492358Z"
    },
    "id": "3EY_rRrjrwJ3"
   },
   "outputs": [],
   "source": [
    "# Build and compile the model\n",
    "input_shape = (64, 64, 1)  # (height, width, channels)\n",
    "model = build_colorization_model(input_shape)\n",
    "model.compile(optimizer=Adam(), loss='mean_squared_error', metrics=['accuracy'])"
   ]
  },
  {
   "cell_type": "code",
   "execution_count": 11,
   "metadata": {
    "colab": {
     "base_uri": "https://localhost:8080/",
     "height": 445
    },
    "execution": {
     "iopub.execute_input": "2024-09-07T18:22:06.877682Z",
     "iopub.status.busy": "2024-09-07T18:22:06.877321Z",
     "iopub.status.idle": "2024-09-07T19:15:42.089177Z",
     "shell.execute_reply": "2024-09-07T19:15:42.088278Z",
     "shell.execute_reply.started": "2024-09-07T18:22:06.877649Z"
    },
    "id": "0z1q8kjNlBJd",
    "outputId": "73ac269c-b5cf-4198-b757-8b4fc0cfa790"
   },
   "outputs": [
    {
     "name": "stdout",
     "output_type": "stream",
     "text": [
      "Epoch 1/50\n"
     ]
    },
    {
     "name": "stderr",
     "output_type": "stream",
     "text": [
      "WARNING: All log messages before absl::InitializeLog() is called are written to STDERR\n",
      "I0000 00:00:1725733334.014255     113 service.cc:145] XLA service 0x78c5b4002c60 initialized for platform CUDA (this does not guarantee that XLA will be used). Devices:\n",
      "I0000 00:00:1725733334.014336     113 service.cc:153]   StreamExecutor device (0): Tesla T4, Compute Capability 7.5\n",
      "I0000 00:00:1725733334.014341     113 service.cc:153]   StreamExecutor device (1): Tesla T4, Compute Capability 7.5\n"
     ]
    },
    {
     "name": "stdout",
     "output_type": "stream",
     "text": [
      "\u001b[1m   3/1350\u001b[0m \u001b[37m━━━━━━━━━━━━━━━━━━━━\u001b[0m \u001b[1m1:23\u001b[0m 62ms/step - accuracy: 0.4092 - loss: 0.0453 "
     ]
    },
    {
     "name": "stderr",
     "output_type": "stream",
     "text": [
      "I0000 00:00:1725733344.249172     113 device_compiler.h:188] Compiled cluster using XLA!  This line is logged at most once for the lifetime of the process.\n"
     ]
    },
    {
     "name": "stdout",
     "output_type": "stream",
     "text": [
      "\u001b[1m1350/1350\u001b[0m \u001b[32m━━━━━━━━━━━━━━━━━━━━\u001b[0m\u001b[37m\u001b[0m \u001b[1m78s\u001b[0m 47ms/step - accuracy: 0.7894 - loss: 0.0055 - val_accuracy: 0.7558 - val_loss: 0.0013\n",
      "Epoch 2/50\n",
      "\u001b[1m1350/1350\u001b[0m \u001b[32m━━━━━━━━━━━━━━━━━━━━\u001b[0m\u001b[37m\u001b[0m \u001b[1m64s\u001b[0m 47ms/step - accuracy: 0.8332 - loss: 7.9572e-04 - val_accuracy: 0.7520 - val_loss: 0.0014\n",
      "Epoch 3/50\n",
      "\u001b[1m1350/1350\u001b[0m \u001b[32m━━━━━━━━━━━━━━━━━━━━\u001b[0m\u001b[37m\u001b[0m \u001b[1m64s\u001b[0m 47ms/step - accuracy: 0.8387 - loss: 7.6918e-04 - val_accuracy: 0.7582 - val_loss: 0.0010\n",
      "Epoch 4/50\n",
      "\u001b[1m1350/1350\u001b[0m \u001b[32m━━━━━━━━━━━━━━━━━━━━\u001b[0m\u001b[37m\u001b[0m \u001b[1m64s\u001b[0m 48ms/step - accuracy: 0.8388 - loss: 7.4392e-04 - val_accuracy: 0.7521 - val_loss: 0.0012\n",
      "Epoch 5/50\n",
      "\u001b[1m1350/1350\u001b[0m \u001b[32m━━━━━━━━━━━━━━━━━━━━\u001b[0m\u001b[37m\u001b[0m \u001b[1m64s\u001b[0m 47ms/step - accuracy: 0.8400 - loss: 7.3922e-04 - val_accuracy: 0.7521 - val_loss: 0.0010\n",
      "Epoch 6/50\n",
      "\u001b[1m1350/1350\u001b[0m \u001b[32m━━━━━━━━━━━━━━━━━━━━\u001b[0m\u001b[37m\u001b[0m \u001b[1m64s\u001b[0m 48ms/step - accuracy: 0.8363 - loss: 7.0318e-04 - val_accuracy: 0.7667 - val_loss: 0.0012\n",
      "Epoch 7/50\n",
      "\u001b[1m1350/1350\u001b[0m \u001b[32m━━━━━━━━━━━━━━━━━━━━\u001b[0m\u001b[37m\u001b[0m \u001b[1m64s\u001b[0m 47ms/step - accuracy: 0.8378 - loss: 6.9520e-04 - val_accuracy: 0.7569 - val_loss: 0.0010\n",
      "Epoch 8/50\n",
      "\u001b[1m1350/1350\u001b[0m \u001b[32m━━━━━━━━━━━━━━━━━━━━\u001b[0m\u001b[37m\u001b[0m \u001b[1m64s\u001b[0m 47ms/step - accuracy: 0.8402 - loss: 6.7458e-04 - val_accuracy: 0.7734 - val_loss: 9.4235e-04\n",
      "Epoch 9/50\n",
      "\u001b[1m1350/1350\u001b[0m \u001b[32m━━━━━━━━━━━━━━━━━━━━\u001b[0m\u001b[37m\u001b[0m \u001b[1m64s\u001b[0m 47ms/step - accuracy: 0.8412 - loss: 6.4977e-04 - val_accuracy: 0.7680 - val_loss: 9.4677e-04\n",
      "Epoch 10/50\n",
      "\u001b[1m1350/1350\u001b[0m \u001b[32m━━━━━━━━━━━━━━━━━━━━\u001b[0m\u001b[37m\u001b[0m \u001b[1m64s\u001b[0m 47ms/step - accuracy: 0.8420 - loss: 6.1288e-04 - val_accuracy: 0.7779 - val_loss: 9.3712e-04\n",
      "Epoch 11/50\n",
      "\u001b[1m1350/1350\u001b[0m \u001b[32m━━━━━━━━━━━━━━━━━━━━\u001b[0m\u001b[37m\u001b[0m \u001b[1m64s\u001b[0m 47ms/step - accuracy: 0.8399 - loss: 5.9329e-04 - val_accuracy: 0.7694 - val_loss: 9.0896e-04\n",
      "Epoch 12/50\n",
      "\u001b[1m1350/1350\u001b[0m \u001b[32m━━━━━━━━━━━━━━━━━━━━\u001b[0m\u001b[37m\u001b[0m \u001b[1m64s\u001b[0m 47ms/step - accuracy: 0.8423 - loss: 5.9076e-04 - val_accuracy: 0.7688 - val_loss: 8.9633e-04\n",
      "Epoch 13/50\n",
      "\u001b[1m1350/1350\u001b[0m \u001b[32m━━━━━━━━━━━━━━━━━━━━\u001b[0m\u001b[37m\u001b[0m \u001b[1m64s\u001b[0m 47ms/step - accuracy: 0.8438 - loss: 5.7954e-04 - val_accuracy: 0.7736 - val_loss: 0.0011\n",
      "Epoch 14/50\n",
      "\u001b[1m1350/1350\u001b[0m \u001b[32m━━━━━━━━━━━━━━━━━━━━\u001b[0m\u001b[37m\u001b[0m \u001b[1m64s\u001b[0m 47ms/step - accuracy: 0.8445 - loss: 5.6875e-04 - val_accuracy: 0.7754 - val_loss: 8.6805e-04\n",
      "Epoch 15/50\n",
      "\u001b[1m1350/1350\u001b[0m \u001b[32m━━━━━━━━━━━━━━━━━━━━\u001b[0m\u001b[37m\u001b[0m \u001b[1m64s\u001b[0m 47ms/step - accuracy: 0.8463 - loss: 5.7000e-04 - val_accuracy: 0.7540 - val_loss: 0.0010\n",
      "Epoch 16/50\n",
      "\u001b[1m1350/1350\u001b[0m \u001b[32m━━━━━━━━━━━━━━━━━━━━\u001b[0m\u001b[37m\u001b[0m \u001b[1m64s\u001b[0m 47ms/step - accuracy: 0.8447 - loss: 5.3221e-04 - val_accuracy: 0.7848 - val_loss: 8.1517e-04\n",
      "Epoch 17/50\n",
      "\u001b[1m1350/1350\u001b[0m \u001b[32m━━━━━━━━━━━━━━━━━━━━\u001b[0m\u001b[37m\u001b[0m \u001b[1m64s\u001b[0m 47ms/step - accuracy: 0.8446 - loss: 5.2309e-04 - val_accuracy: 0.7793 - val_loss: 8.2678e-04\n",
      "Epoch 18/50\n",
      "\u001b[1m1350/1350\u001b[0m \u001b[32m━━━━━━━━━━━━━━━━━━━━\u001b[0m\u001b[37m\u001b[0m \u001b[1m64s\u001b[0m 48ms/step - accuracy: 0.8494 - loss: 5.1016e-04 - val_accuracy: 0.7899 - val_loss: 8.1952e-04\n",
      "Epoch 19/50\n",
      "\u001b[1m1350/1350\u001b[0m \u001b[32m━━━━━━━━━━━━━━━━━━━━\u001b[0m\u001b[37m\u001b[0m \u001b[1m64s\u001b[0m 48ms/step - accuracy: 0.8489 - loss: 4.9293e-04 - val_accuracy: 0.7858 - val_loss: 8.7081e-04\n",
      "Epoch 20/50\n",
      "\u001b[1m1350/1350\u001b[0m \u001b[32m━━━━━━━━━━━━━━━━━━━━\u001b[0m\u001b[37m\u001b[0m \u001b[1m64s\u001b[0m 47ms/step - accuracy: 0.8528 - loss: 4.8562e-04 - val_accuracy: 0.7927 - val_loss: 7.7568e-04\n",
      "Epoch 21/50\n",
      "\u001b[1m1350/1350\u001b[0m \u001b[32m━━━━━━━━━━━━━━━━━━━━\u001b[0m\u001b[37m\u001b[0m \u001b[1m65s\u001b[0m 48ms/step - accuracy: 0.8522 - loss: 4.8147e-04 - val_accuracy: 0.7795 - val_loss: 7.9124e-04\n",
      "Epoch 22/50\n",
      "\u001b[1m1350/1350\u001b[0m \u001b[32m━━━━━━━━━━━━━━━━━━━━\u001b[0m\u001b[37m\u001b[0m \u001b[1m65s\u001b[0m 48ms/step - accuracy: 0.8523 - loss: 4.7645e-04 - val_accuracy: 0.7905 - val_loss: 7.5223e-04\n",
      "Epoch 23/50\n",
      "\u001b[1m1350/1350\u001b[0m \u001b[32m━━━━━━━━━━━━━━━━━━━━\u001b[0m\u001b[37m\u001b[0m \u001b[1m65s\u001b[0m 48ms/step - accuracy: 0.8559 - loss: 4.5513e-04 - val_accuracy: 0.8066 - val_loss: 8.6109e-04\n",
      "Epoch 24/50\n",
      "\u001b[1m1350/1350\u001b[0m \u001b[32m━━━━━━━━━━━━━━━━━━━━\u001b[0m\u001b[37m\u001b[0m \u001b[1m64s\u001b[0m 48ms/step - accuracy: 0.8507 - loss: 4.5975e-04 - val_accuracy: 0.7957 - val_loss: 8.3112e-04\n",
      "Epoch 25/50\n",
      "\u001b[1m1350/1350\u001b[0m \u001b[32m━━━━━━━━━━━━━━━━━━━━\u001b[0m\u001b[37m\u001b[0m \u001b[1m64s\u001b[0m 47ms/step - accuracy: 0.8563 - loss: 4.5306e-04 - val_accuracy: 0.7914 - val_loss: 8.1341e-04\n",
      "Epoch 26/50\n",
      "\u001b[1m1350/1350\u001b[0m \u001b[32m━━━━━━━━━━━━━━━━━━━━\u001b[0m\u001b[37m\u001b[0m \u001b[1m64s\u001b[0m 47ms/step - accuracy: 0.8553 - loss: 4.3718e-04 - val_accuracy: 0.7991 - val_loss: 8.6524e-04\n",
      "Epoch 27/50\n",
      "\u001b[1m1350/1350\u001b[0m \u001b[32m━━━━━━━━━━━━━━━━━━━━\u001b[0m\u001b[37m\u001b[0m \u001b[1m64s\u001b[0m 47ms/step - accuracy: 0.8569 - loss: 4.3859e-04 - val_accuracy: 0.8005 - val_loss: 7.6271e-04\n",
      "Epoch 28/50\n",
      "\u001b[1m1350/1350\u001b[0m \u001b[32m━━━━━━━━━━━━━━━━━━━━\u001b[0m\u001b[37m\u001b[0m \u001b[1m64s\u001b[0m 47ms/step - accuracy: 0.8586 - loss: 4.2409e-04 - val_accuracy: 0.8016 - val_loss: 7.8376e-04\n",
      "Epoch 29/50\n",
      "\u001b[1m1350/1350\u001b[0m \u001b[32m━━━━━━━━━━━━━━━━━━━━\u001b[0m\u001b[37m\u001b[0m \u001b[1m64s\u001b[0m 47ms/step - accuracy: 0.8569 - loss: 4.1341e-04 - val_accuracy: 0.8078 - val_loss: 7.4156e-04\n",
      "Epoch 30/50\n",
      "\u001b[1m1350/1350\u001b[0m \u001b[32m━━━━━━━━━━━━━━━━━━━━\u001b[0m\u001b[37m\u001b[0m \u001b[1m64s\u001b[0m 47ms/step - accuracy: 0.8595 - loss: 4.0362e-04 - val_accuracy: 0.7879 - val_loss: 8.2964e-04\n",
      "Epoch 31/50\n",
      "\u001b[1m1350/1350\u001b[0m \u001b[32m━━━━━━━━━━━━━━━━━━━━\u001b[0m\u001b[37m\u001b[0m \u001b[1m64s\u001b[0m 47ms/step - accuracy: 0.8612 - loss: 4.0114e-04 - val_accuracy: 0.7908 - val_loss: 7.8809e-04\n",
      "Epoch 32/50\n",
      "\u001b[1m1350/1350\u001b[0m \u001b[32m━━━━━━━━━━━━━━━━━━━━\u001b[0m\u001b[37m\u001b[0m \u001b[1m64s\u001b[0m 47ms/step - accuracy: 0.8602 - loss: 3.8791e-04 - val_accuracy: 0.7876 - val_loss: 7.9412e-04\n",
      "Epoch 33/50\n",
      "\u001b[1m1350/1350\u001b[0m \u001b[32m━━━━━━━━━━━━━━━━━━━━\u001b[0m\u001b[37m\u001b[0m \u001b[1m64s\u001b[0m 47ms/step - accuracy: 0.8629 - loss: 3.7785e-04 - val_accuracy: 0.8022 - val_loss: 7.8721e-04\n",
      "Epoch 34/50\n",
      "\u001b[1m1350/1350\u001b[0m \u001b[32m━━━━━━━━━━━━━━━━━━━━\u001b[0m\u001b[37m\u001b[0m \u001b[1m64s\u001b[0m 47ms/step - accuracy: 0.8632 - loss: 3.7144e-04 - val_accuracy: 0.7963 - val_loss: 7.6604e-04\n",
      "Epoch 35/50\n",
      "\u001b[1m1350/1350\u001b[0m \u001b[32m━━━━━━━━━━━━━━━━━━━━\u001b[0m\u001b[37m\u001b[0m \u001b[1m64s\u001b[0m 47ms/step - accuracy: 0.8664 - loss: 3.5931e-04 - val_accuracy: 0.8077 - val_loss: 7.8042e-04\n",
      "Epoch 36/50\n",
      "\u001b[1m1350/1350\u001b[0m \u001b[32m━━━━━━━━━━━━━━━━━━━━\u001b[0m\u001b[37m\u001b[0m \u001b[1m64s\u001b[0m 47ms/step - accuracy: 0.8638 - loss: 3.7493e-04 - val_accuracy: 0.7845 - val_loss: 8.3658e-04\n",
      "Epoch 37/50\n",
      "\u001b[1m1350/1350\u001b[0m \u001b[32m━━━━━━━━━━━━━━━━━━━━\u001b[0m\u001b[37m\u001b[0m \u001b[1m64s\u001b[0m 47ms/step - accuracy: 0.8676 - loss: 3.4793e-04 - val_accuracy: 0.7975 - val_loss: 8.6308e-04\n",
      "Epoch 38/50\n",
      "\u001b[1m1350/1350\u001b[0m \u001b[32m━━━━━━━━━━━━━━━━━━━━\u001b[0m\u001b[37m\u001b[0m \u001b[1m64s\u001b[0m 47ms/step - accuracy: 0.8689 - loss: 3.4633e-04 - val_accuracy: 0.7883 - val_loss: 8.6314e-04\n",
      "Epoch 39/50\n",
      "\u001b[1m1350/1350\u001b[0m \u001b[32m━━━━━━━━━━━━━━━━━━━━\u001b[0m\u001b[37m\u001b[0m \u001b[1m64s\u001b[0m 47ms/step - accuracy: 0.8697 - loss: 3.3110e-04 - val_accuracy: 0.7932 - val_loss: 7.8852e-04\n",
      "Epoch 40/50\n",
      "\u001b[1m1350/1350\u001b[0m \u001b[32m━━━━━━━━━━━━━━━━━━━━\u001b[0m\u001b[37m\u001b[0m \u001b[1m64s\u001b[0m 47ms/step - accuracy: 0.8687 - loss: 3.1795e-04 - val_accuracy: 0.7856 - val_loss: 8.7085e-04\n",
      "Epoch 41/50\n",
      "\u001b[1m1350/1350\u001b[0m \u001b[32m━━━━━━━━━━━━━━━━━━━━\u001b[0m\u001b[37m\u001b[0m \u001b[1m64s\u001b[0m 47ms/step - accuracy: 0.8712 - loss: 3.1739e-04 - val_accuracy: 0.8059 - val_loss: 7.7816e-04\n",
      "Epoch 42/50\n",
      "\u001b[1m1350/1350\u001b[0m \u001b[32m━━━━━━━━━━━━━━━━━━━━\u001b[0m\u001b[37m\u001b[0m \u001b[1m64s\u001b[0m 47ms/step - accuracy: 0.8725 - loss: 3.1063e-04 - val_accuracy: 0.7882 - val_loss: 8.2957e-04\n",
      "Epoch 43/50\n",
      "\u001b[1m1350/1350\u001b[0m \u001b[32m━━━━━━━━━━━━━━━━━━━━\u001b[0m\u001b[37m\u001b[0m \u001b[1m64s\u001b[0m 47ms/step - accuracy: 0.8722 - loss: 3.0209e-04 - val_accuracy: 0.7834 - val_loss: 8.5297e-04\n",
      "Epoch 44/50\n",
      "\u001b[1m1350/1350\u001b[0m \u001b[32m━━━━━━━━━━━━━━━━━━━━\u001b[0m\u001b[37m\u001b[0m \u001b[1m64s\u001b[0m 47ms/step - accuracy: 0.8744 - loss: 2.9753e-04 - val_accuracy: 0.7969 - val_loss: 8.3413e-04\n",
      "Epoch 45/50\n",
      "\u001b[1m1350/1350\u001b[0m \u001b[32m━━━━━━━━━━━━━━━━━━━━\u001b[0m\u001b[37m\u001b[0m \u001b[1m64s\u001b[0m 47ms/step - accuracy: 0.8788 - loss: 2.9321e-04 - val_accuracy: 0.7908 - val_loss: 8.4564e-04\n",
      "Epoch 46/50\n",
      "\u001b[1m1350/1350\u001b[0m \u001b[32m━━━━━━━━━━━━━━━━━━━━\u001b[0m\u001b[37m\u001b[0m \u001b[1m64s\u001b[0m 47ms/step - accuracy: 0.8773 - loss: 2.8341e-04 - val_accuracy: 0.7943 - val_loss: 8.4597e-04\n",
      "Epoch 47/50\n",
      "\u001b[1m1350/1350\u001b[0m \u001b[32m━━━━━━━━━━━━━━━━━━━━\u001b[0m\u001b[37m\u001b[0m \u001b[1m64s\u001b[0m 48ms/step - accuracy: 0.8791 - loss: 2.7789e-04 - val_accuracy: 0.7926 - val_loss: 7.5939e-04\n",
      "Epoch 48/50\n",
      "\u001b[1m1350/1350\u001b[0m \u001b[32m━━━━━━━━━━━━━━━━━━━━\u001b[0m\u001b[37m\u001b[0m \u001b[1m64s\u001b[0m 48ms/step - accuracy: 0.8781 - loss: 2.7395e-04 - val_accuracy: 0.7825 - val_loss: 7.9296e-04\n",
      "Epoch 49/50\n",
      "\u001b[1m1350/1350\u001b[0m \u001b[32m━━━━━━━━━━━━━━━━━━━━\u001b[0m\u001b[37m\u001b[0m \u001b[1m64s\u001b[0m 48ms/step - accuracy: 0.8793 - loss: 2.7670e-04 - val_accuracy: 0.7873 - val_loss: 8.2888e-04\n",
      "Epoch 50/50\n",
      "\u001b[1m1350/1350\u001b[0m \u001b[32m━━━━━━━━━━━━━━━━━━━━\u001b[0m\u001b[37m\u001b[0m \u001b[1m64s\u001b[0m 47ms/step - accuracy: 0.8853 - loss: 2.5774e-04 - val_accuracy: 0.7953 - val_loss: 7.7537e-04\n",
      "Error during training: [Errno 2] Unable to synchronously create file (unable to open file: name = '/content/colorization_model_weights.weights.h5', errno = 2, error message = 'No such file or directory', flags = 13, o_flags = 242)\n"
     ]
    }
   ],
   "source": [
    "# Train the model\n",
    "try:\n",
    "    history = model.fit(X_train, Y_train, batch_size=16, epochs=50, validation_data=(X_val, Y_val))\n",
    "\n",
    "    # Save model weights with correct filename\n",
    "    # weights_path = '/content/drive/MyDrive/colorization_model_weights.weights.h5'\n",
    "    # model.save_weights(weights_path)\n",
    "    weights_path = '/content/colorization_model_weights.weights.h5'\n",
    "    model.save_weights(weights_path)\n",
    "    print(f\"Model weights saved successfully to {weights_path}.\")\n",
    "\n",
    "except Exception as e:\n",
    "    print(f\"Error during training: {e}\")"
   ]
  },
  {
   "cell_type": "code",
   "execution_count": 13,
   "metadata": {
    "colab": {
     "base_uri": "https://localhost:8080/"
    },
    "execution": {
     "iopub.execute_input": "2024-09-07T19:16:29.425608Z",
     "iopub.status.busy": "2024-09-07T19:16:29.425206Z",
     "iopub.status.idle": "2024-09-07T19:16:33.864743Z",
     "shell.execute_reply": "2024-09-07T19:16:33.863824Z",
     "shell.execute_reply.started": "2024-09-07T19:16:29.425569Z"
    },
    "id": "6aVtmEgwlBPi",
    "outputId": "fe9c872f-d425-4443-bb2c-4e13beb59553"
   },
   "outputs": [
    {
     "name": "stdout",
     "output_type": "stream",
     "text": [
      "\u001b[1m169/169\u001b[0m \u001b[32m━━━━━━━━━━━━━━━━━━━━\u001b[0m\u001b[37m\u001b[0m \u001b[1m4s\u001b[0m 24ms/step - accuracy: 0.7972 - loss: 7.7784e-04\n",
      "Validation Loss: 0.0007753717363812029\n",
      "Validation Accuracy: 0.7953450679779053\n"
     ]
    }
   ],
   "source": [
    "# Evaluate the model on the validation set and test accuracy\n",
    "val_loss, val_accuracy = model.evaluate(X_val, Y_val)\n",
    "print(f\"Validation Loss: {val_loss}\")\n",
    "print(f\"Validation Accuracy: {val_accuracy}\")"
   ]
  },
  {
   "cell_type": "code",
   "execution_count": 15,
   "metadata": {
    "colab": {
     "base_uri": "https://localhost:8080/",
     "height": 305
    },
    "id": "-VH6KTZElBSx",
    "outputId": "de49e4f7-ec93-493c-ea12-2feffb34fa70"
   },
   "outputs": [
    {
     "name": "stdout",
     "output_type": "stream",
     "text": [
      "\u001b[1m1/1\u001b[0m \u001b[32m━━━━━━━━━━━━━━━━━━━━\u001b[0m\u001b[37m\u001b[0m \u001b[1m3s\u001b[0m 3s/step\n"
     ]
    },
    {
     "data": {
      "image/png": "[encoded data removed]",
      "text/plain": [
       "<Figure size 1000x400 with 3 Axes>"
      ]
     },
     "metadata": {},
     "output_type": "display_data"
    }
   ],
   "source": [
    "# Test function to visualize predictions\n",
    "def test_model(model, X_val, Y_val, index=0):\n",
    "    # Get the grayscale input and actual color image\n",
    "    grayscale_img = X_val[index]\n",
    "    true_color_img = Y_val[index]\n",
    "\n",
    "    # Add batch dimension (1, 64, 64, 1) for model prediction\n",
    "    grayscale_img_batch = np.expand_dims(grayscale_img, axis=0)\n",
    "\n",
    "    # Predict the colorized image\n",
    "    predicted_color_img = model.predict(grayscale_img_batch)[0]  # Remove batch dimension after prediction\n",
    "\n",
    "    # Rescale from [0, 1] to [0, 255] for display purposes\n",
    "    predicted_color_img = (predicted_color_img * 255).astype(np.uint8)\n",
    "    true_color_img = (true_color_img * 255).astype(np.uint8)\n",
    "    grayscale_img = (grayscale_img.squeeze() * 255).astype(np.uint8)\n",
    "\n",
    "    # Display images for comparison\n",
    "    import matplotlib.pyplot as plt\n",
    "    plt.figure(figsize=(10, 4))\n",
    "\n",
    "    plt.subplot(1, 3, 1)\n",
    "    plt.title(\"Grayscale Input\")\n",
    "    plt.imshow(grayscale_img, cmap='gray')\n",
    "    plt.axis('off')\n",
    "\n",
    "    plt.subplot(1, 3, 2)\n",
    "    plt.title(\"Predicted Color Image\")\n",
    "    plt.imshow(predicted_color_img)\n",
    "    plt.axis('off')\n",
    "\n",
    "    plt.subplot(1, 3, 3)\n",
    "    plt.title(\"True Color Image\")\n",
    "    plt.imshow(true_color_img)\n",
    "    plt.axis('off')\n",
    "\n",
    "    plt.show()\n",
    "\n",
    "# Test the model on one sample from validation set\n",
    "test_model(model, X_val, Y_val, index=0)"
   ]
  }
 ],
 "metadata": {
  "accelerator": "GPU",
  "colab": {
   "gpuType": "T4",
   "provenance": []
  },
  "kaggle": {
   "accelerator": "nvidiaTeslaT4",
   "dataSources": [
    {
     "datasetId": 5660915,
     "sourceId": 9340981,
     "sourceType": "datasetVersion"
    }
   ],
   "dockerImageVersionId": 30762,
   "isGpuEnabled": true,
   "isInternetEnabled": true,
   "language": "python",
   "sourceType": "notebook"
  },
  "kernelspec": {
   "display_name": "Python 3 (ipykernel)",
   "language": "python",
   "name": "python3"
  },
  "language_info": {
   "codemirror_mode": {
    "name": "ipython",
    "version": 3
   },
   "file_extension": ".py",
   "mimetype": "text/x-python",
   "name": "python",
   "nbconvert_exporter": "python",
   "pygments_lexer": "ipython3",
   "version": "3.12.3"
  }
 },
 "nbformat": 4,
 "nbformat_minor": 4
}
