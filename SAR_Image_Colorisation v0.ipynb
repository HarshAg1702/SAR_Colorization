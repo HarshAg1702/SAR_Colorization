{
 "cells": [
  {
   "cell_type": "code",
   "execution_count": null,
   "metadata": {
    "id": "7ae_a6Swk1N-"
   },
   "outputs": [],
   "source": [
    "# Importing Libraries\n",
    "import numpy as np\n",
    "from skimage import io, img_as_float, img_as_ubyte\n",
    "from skimage.restoration import (\n",
    "    denoise_nl_means,\n",
    "    denoise_tv_chambolle,\n",
    "    denoise_wavelet,\n",
    "    denoise_bilateral\n",
    ")\n",
    "from skimage.restoration import estimate_sigma\n",
    "from skimage.util import random_noise\n",
    "import cv2\n",
    "import tensorflow as tf\n",
    "from tensorflow.keras.models import Model\n",
    "from tensorflow.keras.layers import Input, Conv2D, BatchNormalization, Activation, Add\n",
    "from tensorflow.keras.optimizers import Adam\n",
    "from sklearn.model_selection import train_test_split"
   ]
  },
  {
   "cell_type": "code",
   "execution_count": null,
   "metadata": {
    "id": "B4_rY2yDpstr"
   },
   "outputs": [],
   "source": [
    "# Establishing connection with google drive\n",
    "from google.colab import drive\n",
    "drive.mount('/content/drive')\n",
    "\n",
    "color_dataset_path = '/content/drive/MyDrive/EuroSAT/'  # Base path for colorised images\n",
    "gray_scale_dataset_path = '/content/drive/MyDrive/EuroSAT_gray_scale/'  # Base path for grayscale images\n",
    "if not os.path.exists(gray_scale_dataset_path):\n",
    "    os.makedirs(gray_scale_dataset_path)\n",
    "\n",
    "# List of folders representing different classes\n",
    "class_folders = ['River', 'SeaLake', 'Residential', 'Pasture', 'AnnualCrop','Forest', 'HerbaceousVegetation', 'Highway', 'Industrial', 'PermanentCrop']"
   ]
  },
  {
   "cell_type": "code",
   "execution_count": null,
   "metadata": {
    "id": "wXTjHM8olBAw"
   },
   "outputs": [],
   "source": [
    "# Function to convert RGB Image to GrayScale\n",
    "def convert_to_grayscale(image_path, output_path):\n",
    "    image = cv2.imread(image_path)\n",
    "    if image is None:\n",
    "        print(f\"Error: Unable to load image at {image_path}\")\n",
    "        return\n",
    "\n",
    "    gray_image = cv2.cvtColor(image, cv2.COLOR_BGR2GRAY)\n",
    "    cv2.imwrite(output_path, gray_image)"
   ]
  },
  {
   "cell_type": "code",
   "execution_count": null,
   "metadata": {
    "id": "_2h1unPZpxkU"
   },
   "outputs": [],
   "source": [
    "# Convert all images to GrayScale\n",
    "for folder in class_folders:\n",
    "    source_folder = os.path.join(color_dataset_path, folder)\n",
    "    dest_folder = os.path.join(gray_scale_dataset_path, f\"{folder}_gray_scale\")\n",
    "\n",
    "    if not os.path.exists(source_folder):\n",
    "        print(f\"Warning: Source folder {source_folder} does not exist. Skipping...\")\n",
    "        continue\n",
    "\n",
    "    if not os.path.exists(dest_folder):\n",
    "        os.makedirs(dest_folder)\n",
    "\n",
    "    for filename in os.listdir(source_folder):\n",
    "        image_path = os.path.join(source_folder, filename)\n",
    "        output_path = os.path.join(dest_folder, filename)\n",
    "        convert_to_grayscale(image_path, output_path)\n",
    "\n",
    "print(\"\\nGrayscale conversion completed!\")"
   ]
  },
  {
   "cell_type": "code",
   "execution_count": null,
   "metadata": {
    "id": "E8pfDw85lBDZ"
   },
   "outputs": [],
   "source": [
    "# Function to load and preprocess images from directories\n",
    "def load_data(color_dataset_path, gray_scale_dataset_path, class_folders, size=(64, 64)):\n",
    "    X = []  # Grayscale images\n",
    "    Y = []  # Color images\n",
    "\n",
    "    for folder in class_folders:\n",
    "        color_folder = os.path.join(color_dataset_path, folder)\n",
    "        gray_folder = os.path.join(gray_scale_dataset_path, f\"{folder}_gray_scale\")\n",
    "\n",
    "        if not os.path.exists(color_folder) or not os.path.exists(gray_folder):\n",
    "            print(f\"Skipping missing folder: {color_folder} or {gray_folder}\")\n",
    "            continue\n",
    "\n",
    "        # List all files in the color and grayscale folder\n",
    "        color_files = os.listdir(color_folder)\n",
    "        gray_files = os.listdir(gray_folder)\n",
    "\n",
    "        for filename in color_files:\n",
    "            color_path = os.path.join(color_folder, filename)\n",
    "            gray_path = os.path.join(gray_folder, filename)\n",
    "\n",
    "            if not os.path.isfile(color_path) or not os.path.isfile(gray_path):\n",
    "                print(f\"Skipping missing files: {color_path} or {gray_path}\")\n",
    "                continue\n",
    "\n",
    "            color_img = cv2.imread(color_path)\n",
    "            gray_img = cv2.imread(gray_path, cv2.IMREAD_GRAYSCALE)\n",
    "\n",
    "            if color_img is None or gray_img is None:\n",
    "                print(f\"Error loading images: {color_path} or {gray_path}\")\n",
    "                continue\n",
    "\n",
    "            # Resize images to the desired size (128x128)\n",
    "            color_img = cv2.resize(color_img, size)\n",
    "            gray_img = cv2.resize(gray_img, size)\n",
    "\n",
    "            # Expand dimensions of grayscale image to (height, width, 1)\n",
    "            gray_img = np.expand_dims(gray_img, axis=-1)\n",
    "\n",
    "            # Normalize pixel values to [0, 1]\n",
    "            X.append(gray_img / 255.0)  # Grayscale images\n",
    "            Y.append(color_img / 255.0)  # Color images\n",
    "\n",
    "    return np.array(X), np.array(Y)"
   ]
  },
  {
   "cell_type": "code",
   "execution_count": null,
   "metadata": {
    "id": "jPG2lYjvlBGc"
   },
   "outputs": [],
   "source": [
    "from tensorflow.keras.layers import MaxPooling2D, UpSampling2D, Concatenate\n",
    "\n",
    "# Define U-Net architecture for colorization\n",
    "def build_colorization_model(input_shape):\n",
    "    inputs = Input(shape=input_shape)\n",
    "\n",
    "    # Encoder\n",
    "    c1 = Conv2D(64, (3, 3), activation='relu', padding='same')(inputs)\n",
    "    c1 = Conv2D(64, (3, 3), activation='relu', padding='same')(c1)\n",
    "    p1 = MaxPooling2D((2, 2))(c1)\n",
    "\n",
    "    c2 = Conv2D(128, (3, 3), activation='relu', padding='same')(p1)\n",
    "    c2 = Conv2D(128, (3, 3), activation='relu', padding='same')(c2)\n",
    "    p2 = MaxPooling2D((2, 2))(c2)\n",
    "\n",
    "    c3 = Conv2D(256, (3, 3), activation='relu', padding='same')(p2)\n",
    "    c3 = Conv2D(256, (3, 3), activation='relu', padding='same')(c3)\n",
    "    p3 = MaxPooling2D((2, 2))(c3)\n",
    "\n",
    "    # Bottleneck\n",
    "    c4 = Conv2D(512, (3, 3), activation='relu', padding='same')(p3)\n",
    "    c4 = Conv2D(512, (3, 3), activation='relu', padding='same')(c4)\n",
    "\n",
    "    # Decoder\n",
    "    u5 = UpSampling2D((2, 2))(c4)\n",
    "    u5 = Concatenate()([u5, c3])\n",
    "    c5 = Conv2D(256, (3, 3), activation='relu', padding='same')(u5)\n",
    "    c5 = Conv2D(256, (3, 3), activation='relu', padding='same')(c5)\n",
    "\n",
    "    u6 = UpSampling2D((2, 2))(c5)\n",
    "    u6 = Concatenate()([u6, c2])\n",
    "    c6 = Conv2D(128, (3, 3), activation='relu', padding='same')(u6)\n",
    "    c6 = Conv2D(128, (3, 3), activation='relu', padding='same')(c6)\n",
    "\n",
    "    u7 = UpSampling2D((2, 2))(c6)\n",
    "    u7 = Concatenate()([u7, c1])\n",
    "    c7 = Conv2D(64, (3, 3), activation='relu', padding='same')(u7)\n",
    "    c7 = Conv2D(64, (3, 3), activation='relu', padding='same')(c7)\n",
    "\n",
    "    outputs = Conv2D(3, (1, 1), activation='sigmoid')(c7)  # 3 channels for RGB color\n",
    "\n",
    "    model = Model(inputs=[inputs], outputs=[outputs])\n",
    "    return model"
   ]
  },
  {
   "cell_type": "code",
   "execution_count": null,
   "metadata": {
    "id": "k7MaeId8rwS4"
   },
   "outputs": [],
   "source": [
    "# Load and Split the data into training and validation sets\n",
    "X, Y = load_data(color_dataset_path, gray_scale_dataset_path, class_folders, size=(64, 64))\n",
    "X_train, X_val = X[:int(0.8*len(X))], X[int(0.8*len(X)):]\n",
    "Y_train, Y_val = Y[:int(0.8*len(Y))], Y[int(0.8*len(Y)):]"
   ]
  },
  {
   "cell_type": "code",
   "execution_count": null,
   "metadata": {
    "id": "3EY_rRrjrwJ3"
   },
   "outputs": [],
   "source": [
    "# Build and compile the model\n",
    "input_shape = (64, 64, 1)  # (height, width, channels)\n",
    "model = build_colorization_model(input_shape)\n",
    "model.compile(optimizer=Adam(), loss='mean_squared_error', metrics=['accuracy'])"
   ]
  },
  {
   "cell_type": "code",
   "execution_count": null,
   "metadata": {
    "id": "0z1q8kjNlBJd"
   },
   "outputs": [],
   "source": [
    "# Train the model\n",
    "try:\n",
    "    history = model.fit(X_train, Y_train, batch_size=16, epochs=10, validation_data=(X_val, Y_val))\n",
    "\n",
    "    # Save model weights with correct filename\n",
    "    weights_path = '/content/drive/MyDrive/colorization_model_weights.weights.h5'\n",
    "    model.save_weights(weights_path)\n",
    "    print(f\"Model weights saved successfully to {weights_path}.\")\n",
    "\n",
    "except Exception as e:\n",
    "    print(f\"Error during training: {e}\")"
   ]
  },
  {
   "cell_type": "code",
   "execution_count": null,
   "metadata": {
    "id": "6aVtmEgwlBPi"
   },
   "outputs": [],
   "source": [
    "# Evaluate the model on the validation set and test accuracy\n",
    "val_loss, val_accuracy = model.evaluate(X_val, Y_val)\n",
    "print(f\"Validation Loss: {val_loss}\")\n",
    "print(f\"Validation Accuracy: {val_accuracy}\")"
   ]
  },
  {
   "cell_type": "code",
   "execution_count": null,
   "metadata": {
    "id": "-VH6KTZElBSx"
   },
   "outputs": [],
   "source": [
    "# Test function to visualize predictions\n",
    "def test_model(model, X_val, Y_val, index=0):\n",
    "    # Get the grayscale input and actual color image\n",
    "    grayscale_img = X_val[index]\n",
    "    true_color_img = Y_val[index]\n",
    "\n",
    "    # Add batch dimension (1, 64, 64, 1) for model prediction\n",
    "    grayscale_img_batch = np.expand_dims(grayscale_img, axis=0)\n",
    "\n",
    "    # Predict the colorized image\n",
    "    predicted_color_img = model.predict(grayscale_img_batch)[0]  # Remove batch dimension after prediction\n",
    "\n",
    "    # Rescale from [0, 1] to [0, 255] for display purposes\n",
    "    predicted_color_img = (predicted_color_img * 255).astype(np.uint8)\n",
    "    true_color_img = (true_color_img * 255).astype(np.uint8)\n",
    "    grayscale_img = (grayscale_img.squeeze() * 255).astype(np.uint8)\n",
    "\n",
    "    # Display images for comparison\n",
    "    import matplotlib.pyplot as plt\n",
    "    plt.figure(figsize=(10, 4))\n",
    "\n",
    "    plt.subplot(1, 3, 1)\n",
    "    plt.title(\"Grayscale Input\")\n",
    "    plt.imshow(grayscale_img, cmap='gray')\n",
    "    plt.axis('off')\n",
    "\n",
    "    plt.subplot(1, 3, 2)\n",
    "    plt.title(\"Predicted Color Image\")\n",
    "    plt.imshow(predicted_color_img)\n",
    "    plt.axis('off')\n",
    "\n",
    "    plt.subplot(1, 3, 3)\n",
    "    plt.title(\"True Color Image\")\n",
    "    plt.imshow(true_color_img)\n",
    "    plt.axis('off')\n",
    "\n",
    "    plt.show()\n",
    "\n",
    "# Test the model on one sample from validation set\n",
    "test_model(model, X_val, Y_val, index=0)"
   ]
  }
 ],
 "metadata": {
  "accelerator": "GPU",
  "colab": {
   "gpuType": "T4",
   "provenance": []
  },
  "kernelspec": {
   "display_name": "Python 3 (ipykernel)",
   "language": "python",
   "name": "python3"
  },
  "language_info": {
   "codemirror_mode": {
    "name": "ipython",
    "version": 3
   },
   "file_extension": ".py",
   "mimetype": "text/x-python",
   "name": "python",
   "nbconvert_exporter": "python",
   "pygments_lexer": "ipython3",
   "version": "3.12.3"
  }
 },
 "nbformat": 4,
 "nbformat_minor": 4
}
